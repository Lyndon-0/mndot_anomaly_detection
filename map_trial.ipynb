{
 "cells": [
  {
   "cell_type": "code",
   "execution_count": 1,
   "metadata": {},
   "outputs": [
    {
     "ename": "TypeError",
     "evalue": "make_map() missing 1 required positional argument: 'pipes'",
     "output_type": "error",
     "traceback": [
      "\u001b[1;31m---------------------------------------------------------------------------\u001b[0m",
      "\u001b[1;31mTypeError\u001b[0m                                 Traceback (most recent call last)",
      "Cell \u001b[1;32mIn[1], line 3\u001b[0m\n\u001b[0;32m      1\u001b[0m \u001b[39mfrom\u001b[39;00m \u001b[39mdata\u001b[39;00m \u001b[39mimport\u001b[39;00m gdf,apns\n\u001b[0;32m      2\u001b[0m \u001b[39mfrom\u001b[39;00m \u001b[39mmap_utils\u001b[39;00m \u001b[39mimport\u001b[39;00m make_map\n\u001b[1;32m----> 3\u001b[0m m \u001b[39m=\u001b[39m make_map(gdf,apns)\n\u001b[0;32m      4\u001b[0m m\n",
      "\u001b[1;31mTypeError\u001b[0m: make_map() missing 1 required positional argument: 'pipes'"
     ]
    }
   ],
   "source": [
    "from data import gdf,apns\n",
    "from map_utils import make_map\n",
    "m = make_map(gdf,apns)\n",
    "m"
   ]
  }
 ],
 "metadata": {
  "kernelspec": {
   "display_name": "pandas-analysis-pSGX_PKJ-py3.10",
   "language": "python",
   "name": "python3"
  },
  "language_info": {
   "codemirror_mode": {
    "name": "ipython",
    "version": 3
   },
   "file_extension": ".py",
   "mimetype": "text/x-python",
   "name": "python",
   "nbconvert_exporter": "python",
   "pygments_lexer": "ipython3",
   "version": "3.10.4"
  },
  "orig_nbformat": 4
 },
 "nbformat": 4,
 "nbformat_minor": 2
}
