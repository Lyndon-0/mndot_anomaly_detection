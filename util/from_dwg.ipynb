{
 "cells": [
  {
   "cell_type": "code",
   "execution_count": 42,
   "metadata": {},
   "outputs": [
    {
     "data": {
      "text/plain": [
       "2"
      ]
     },
     "execution_count": 42,
     "metadata": {},
     "output_type": "execute_result"
    }
   ],
   "source": [
    "import geopandas as gpd\n",
    "from pathlib import Path\n",
    "dwg_shp_path = Path(r\"\\\\ppeng.com\\pzdata\\clients\\Arvin-Edison WSD-1215\\121523003-Frick Unit Pipeline\\300 CAD\\320 References\\Sites_Ref\\Shapefiles\\REF-PROP-SITE-FOR-SHAPEFILES.dwg\")\n",
    "dwg_shp_path = Path(r\"\\\\ppeng.com\\pzdata\\clients\\Arvin-Edison WSD-1215\\121523003-Frick Unit Pipeline\\300 CAD\\320 References\\Sites_Ref\\REF-PROP-SITE.dwg\")\n",
    "import ezdxf\n",
    "from ezdxf.addons import odafc\n",
    "from ezdxf.document import Drawing\n",
    "from ezdxf import xref, units, colors\n",
    "from ezdxf.render import forms\n",
    "units.FT"
   ]
  },
  {
   "cell_type": "code",
   "execution_count": 59,
   "metadata": {},
   "outputs": [
    {
     "data": {
      "text/plain": [
       "['annotations',\n",
       " 'Iterable',\n",
       " 'Sequence',\n",
       " 'Iterator',\n",
       " 'Callable',\n",
       " 'Optional',\n",
       " 'math',\n",
       " 'IntEnum',\n",
       " 'Vec2',\n",
       " 'Vec3',\n",
       " 'UVec',\n",
       " 'Matrix44',\n",
       " 'global_bspline_interpolation',\n",
       " 'EulerSpiral',\n",
       " 'arc_angle_span_rad',\n",
       " 'NULLVEC',\n",
       " 'Z_AXIS',\n",
       " 'X_AXIS',\n",
       " 'UCS',\n",
       " 'intersection_ray_ray_3d',\n",
       " 'MeshVertexMerger',\n",
       " 'MeshTransformer',\n",
       " 'circle',\n",
       " 'ellipse',\n",
       " 'euler_spiral',\n",
       " 'square',\n",
       " 'box',\n",
       " 'open_arrow',\n",
       " 'arrow2',\n",
       " 'ngon',\n",
       " 'star',\n",
       " 'gear',\n",
       " 'turtle',\n",
       " 'translate',\n",
       " 'rotate',\n",
       " 'scale',\n",
       " 'close_polygon',\n",
       " 'helix',\n",
       " 'cube_faces',\n",
       " 'cube',\n",
       " 'extrude',\n",
       " 'extrude_twist_scale',\n",
       " 'cylinder',\n",
       " 'cylinder_2p',\n",
       " 'from_profiles_linear',\n",
       " 'spline_interpolation',\n",
       " 'spline_interpolated_profiles',\n",
       " 'from_profiles_spline',\n",
       " 'cone',\n",
       " 'cone_2p',\n",
       " 'rotation_form',\n",
       " 'sphere',\n",
       " 'torus',\n",
       " 'connection_faces',\n",
       " 'reference_frame_z',\n",
       " 'reference_frame_ext',\n",
       " 'make_next_reference_frame',\n",
       " 'sweep_profile',\n",
       " 'debug_sweep_profiles',\n",
       " 'sweep']"
      ]
     },
     "execution_count": 59,
     "metadata": {},
     "output_type": "execute_result"
    }
   ],
   "source": [
    "[i for i in forms.__dir__() if not i.startswith(\"_\")]"
   ]
  },
  {
   "cell_type": "code",
   "execution_count": 63,
   "metadata": {},
   "outputs": [
    {
     "data": {
      "text/html": [
       "<div>\n",
       "<style scoped>\n",
       "    .dataframe tbody tr th:only-of-type {\n",
       "        vertical-align: middle;\n",
       "    }\n",
       "\n",
       "    .dataframe tbody tr th {\n",
       "        vertical-align: top;\n",
       "    }\n",
       "\n",
       "    .dataframe thead th {\n",
       "        text-align: right;\n",
       "    }\n",
       "</style>\n",
       "<table border=\"1\" class=\"dataframe\">\n",
       "  <thead>\n",
       "    <tr style=\"text-align: right;\">\n",
       "      <th></th>\n",
       "      <th>Layer</th>\n",
       "      <th>PaperSpace</th>\n",
       "      <th>SubClasses</th>\n",
       "      <th>Linetype</th>\n",
       "      <th>EntityHandle</th>\n",
       "      <th>Text</th>\n",
       "      <th>geometry</th>\n",
       "    </tr>\n",
       "  </thead>\n",
       "  <tbody>\n",
       "    <tr>\n",
       "      <th>0</th>\n",
       "      <td>GEAR</td>\n",
       "      <td>None</td>\n",
       "      <td>AcDbEntity:AcDbPolyline</td>\n",
       "      <td>None</td>\n",
       "      <td>31</td>\n",
       "      <td>None</td>\n",
       "      <td>LINESTRING (17.49922 14.93748, 17.49922 15.062...</td>\n",
       "    </tr>\n",
       "    <tr>\n",
       "      <th>1</th>\n",
       "      <td>GEAR</td>\n",
       "      <td>None</td>\n",
       "      <td>AcDbEntity:AcDbPolyline</td>\n",
       "      <td>None</td>\n",
       "      <td>32</td>\n",
       "      <td>None</td>\n",
       "      <td>LINESTRING (7.49687 4.87484, 7.49687 5.12516, ...</td>\n",
       "    </tr>\n",
       "  </tbody>\n",
       "</table>\n",
       "</div>"
      ],
      "text/plain": [
       "  Layer PaperSpace               SubClasses Linetype EntityHandle  Text  \\\n",
       "0  GEAR       None  AcDbEntity:AcDbPolyline     None           31  None   \n",
       "1  GEAR       None  AcDbEntity:AcDbPolyline     None           32  None   \n",
       "\n",
       "                                            geometry  \n",
       "0  LINESTRING (17.49922 14.93748, 17.49922 15.062...  \n",
       "1  LINESTRING (7.49687 4.87484, 7.49687 5.12516, ...  "
      ]
     },
     "execution_count": 63,
     "metadata": {},
     "output_type": "execute_result"
    }
   ],
   "source": [
    "doc = ezdxf.new(\n",
    "\t# DXFVERSION,\n",
    "\tunits=units.FT,\n",
    "\t)\n",
    "doc.layers.add(\"GEAR\", color=colors.YELLOW)\n",
    "doc.layers.add(\"Cone\", color=colors.RED)\n",
    "msp = doc.modelspace()\n",
    "gear = forms.gear(\n",
    "\t16,\n",
    "\ttop_width=0.25,\n",
    "\tbottom_width=0.75,\n",
    "\theight=0.5,\n",
    "\toutside_radius=2.5,\n",
    ")\n",
    "gear2 = forms.gear(\n",
    "\t16,\n",
    "\ttop_width=0.5,\n",
    "\tbottom_width=1,\n",
    "\theight=1,\n",
    "\toutside_radius=2.5,\n",
    ")\n",
    "msp.add_lwpolyline(\n",
    "\tforms.translate(gear, (15,15)), close=True, dxfattribs={\"layer\": \"GEAR\"}\n",
    ")\n",
    "msp.add_lwpolyline(\n",
    "\tforms.translate(gear2, (5, 5)), close=True, dxfattribs={\"layer\": \"GEAR\"}\n",
    ")\n",
    "\n",
    "# cone = forms.cone(\n",
    "# \tapex=(0, 0, 0),\n",
    "# \tradius=1,\n",
    "# )\n",
    "# msp.add_lwpolyline(\n",
    "# \tforms.translate(cone, (5, 5)), close=True, dxfattribs={\"layer\": \"Cone\"}\n",
    "# )\n",
    "\n",
    "doc.header[\"$INSBASE\"] = (5, 5, 0)\n",
    "for layer in [\"Turnout\",\"Valve\",\"AirVent\"]:\n",
    "\txref.attach(\n",
    "\t\tdoc,\n",
    "\t\tblock_name=layer,\n",
    "\t\tfilename=file_path,\n",
    "\t\tinsert=(0, 0)\n",
    "\t\t)\n",
    "doc.set_modelspace_vport(height=10, center=(0, 0))\n",
    "save_path = dwg_shp_path.parent / \"trial.dxf\"\n",
    "doc.saveas(save_path)\n",
    "data = gpd.read_file(save_path)\n",
    "data"
   ]
  },
  {
   "cell_type": "code",
   "execution_count": 62,
   "metadata": {},
   "outputs": [
    {
     "data": {
      "text/plain": [
       "<Axes: >"
      ]
     },
     "execution_count": 62,
     "metadata": {},
     "output_type": "execute_result"
    },
    {
     "data": {
      "image/png": "[encoded data removed]",
      "text/plain": [
       "<Figure size 640x480 with 1 Axes>"
      ]
     },
     "metadata": {},
     "output_type": "display_data"
    }
   ],
   "source": [
    "data.plot()"
   ]
  }
 ],
 "metadata": {
  "kernelspec": {
   "display_name": "fastapi-apps-osnFxii_-py3.10",
   "language": "python",
   "name": "python3"
  },
  "language_info": {
   "codemirror_mode": {
    "name": "ipython",
    "version": 3
   },
   "file_extension": ".py",
   "mimetype": "text/x-python",
   "name": "python",
   "nbconvert_exporter": "python",
   "pygments_lexer": "ipython3",
   "version": "3.10.4"
  }
 },
 "nbformat": 4,
 "nbformat_minor": 2
}
