{
 "cells": [
  {
   "cell_type": "code",
   "execution_count": 3,
   "metadata": {},
   "outputs": [
    {
     "name": "stdout",
     "output_type": "stream",
     "text": [
      "pipelines.kml\n"
     ]
    }
   ],
   "source": [
    "import geopandas as gpd\n",
    "from pathlib import Path\n",
    "file = Path(r\"G:\\Arvin-Edison WSD-1215\\121523003-Frick Unit Pipeline\\200 Technical\\202 General\\KMZs\\2023-0620 Frick Unit Pipeline Aligment.kmz\")\n",
    "file = Path(r\"G:\\Arvin-Edison WSD-1215\\121523003-Frick Unit Pipeline\\200 Technical\\202 General\\KMZs\\Frick Unit Pipeline - For Denver .kmz\")\n",
    "import zipfile\n",
    "# Open the KMZ file\n",
    "# for file in P.glob(\"*.kmz\"):\n",
    "zipdata = zipfile.ZipFile(file)\n",
    "zipinfos = zipdata.infolist()\n",
    "\n",
    "# iterate through each file\n",
    "for zipinfo in zipinfos:\n",
    "\t# zipinfo.filename = str(P.joinpath(f\"{file.stem}.kml\"))\n",
    "\t# zipinfo.filename = f\"{file.stem}.kml\"\n",
    "\tzipinfo.filename = f\"pipelines.kml\"\n",
    "\tprint(zipinfo.filename)\n",
    "\tfolder = Path(\"data\").joinpath(\"kml\")\n",
    "\tfolder.mkdir(exist_ok=True)\n",
    "\tzipdata.extract(zipinfo,path=folder)"
   ]
  },
  {
   "cell_type": "code",
   "execution_count": 14,
   "metadata": {},
   "outputs": [
    {
     "ename": "AttributeError",
     "evalue": "'NoneType' object has no attribute 'drvsupport'",
     "output_type": "error",
     "traceback": [
      "\u001b[1;31m---------------------------------------------------------------------------\u001b[0m",
      "\u001b[1;31mAttributeError\u001b[0m                            Traceback (most recent call last)",
      "Cell \u001b[1;32mIn[14], line 1\u001b[0m\n\u001b[1;32m----> 1\u001b[0m gpd\u001b[39m.\u001b[39;49mio\u001b[39m.\u001b[39;49mfile\u001b[39m.\u001b[39;49mfiona\u001b[39m.\u001b[39;49mdrvsupport\u001b[39m.\u001b[39msupported_drivers[\u001b[39m'\u001b[39m\u001b[39mKML\u001b[39m\u001b[39m'\u001b[39m]\n\u001b[0;32m      2\u001b[0m \u001b[39m# fiona\u001b[39;00m\n",
      "\u001b[1;31mAttributeError\u001b[0m: 'NoneType' object has no attribute 'drvsupport'"
     ]
    }
   ],
   "source": [
    "gpd.io.file.fiona.drvsupport.supported_drivers['KML']\n",
    "# fiona"
   ]
  },
  {
   "cell_type": "code",
   "execution_count": 16,
   "metadata": {},
   "outputs": [
    {
     "name": "stdout",
     "output_type": "stream",
     "text": [
      "EPSG:4326\n"
     ]
    },
    {
     "data": {
      "text/html": [
       "<div>\n",
       "<style scoped>\n",
       "    .dataframe tbody tr th:only-of-type {\n",
       "        vertical-align: middle;\n",
       "    }\n",
       "\n",
       "    .dataframe tbody tr th {\n",
       "        vertical-align: top;\n",
       "    }\n",
       "\n",
       "    .dataframe thead th {\n",
       "        text-align: right;\n",
       "    }\n",
       "</style>\n",
       "<table border=\"1\" class=\"dataframe\">\n",
       "  <thead>\n",
       "    <tr style=\"text-align: right;\">\n",
       "      <th></th>\n",
       "      <th>Name</th>\n",
       "      <th>Description</th>\n",
       "      <th>geometry</th>\n",
       "    </tr>\n",
       "  </thead>\n",
       "  <tbody>\n",
       "    <tr>\n",
       "      <th>0</th>\n",
       "      <td>N0 - 42\"</td>\n",
       "      <td></td>\n",
       "      <td>MULTILINESTRING Z ((-118.88092 35.32602 0.0000...</td>\n",
       "    </tr>\n",
       "    <tr>\n",
       "      <th>1</th>\n",
       "      <td>N0 - 30\"</td>\n",
       "      <td></td>\n",
       "      <td>MULTILINESTRING Z ((-118.88745 35.31099 0.0000...</td>\n",
       "    </tr>\n",
       "  </tbody>\n",
       "</table>\n",
       "</div>"
      ],
      "text/plain": [
       "       Name Description                                           geometry\n",
       "0  N0 - 42\"              MULTILINESTRING Z ((-118.88092 35.32602 0.0000...\n",
       "1  N0 - 30\"              MULTILINESTRING Z ((-118.88745 35.31099 0.0000..."
      ]
     },
     "execution_count": 16,
     "metadata": {},
     "output_type": "execute_result"
    }
   ],
   "source": [
    "import pandas as pd\n",
    "\n",
    "gpd.io.file.fiona.drvsupport.supported_drivers['KML'] = 'rw'\n",
    "import fiona\n",
    "file = folder.joinpath(\"pipelines.kml\")\n",
    "gdf = gpd.GeoDataFrame(pd.concat(\n",
    "\t[ gpd.read_file(\n",
    "        file,\n",
    "        driver='KML',\n",
    "        layer=layer,\n",
    "        crs='EPSG:26945'\n",
    "        ) for layer in fiona.listlayers(file)],\n",
    "    ignore_index=True,),\n",
    "    )\n",
    "print(gdf.crs)\n",
    "# gdf = gpd.read_file(file, driver=\"KML\")\n",
    "gdf.head(2)"
   ]
  },
  {
   "cell_type": "code",
   "execution_count": 17,
   "metadata": {},
   "outputs": [
    {
     "name": "stdout",
     "output_type": "stream",
     "text": [
      "(8, 3)\n",
      "EPSG:4326\n"
     ]
    },
    {
     "data": {
      "text/plain": [
       "<Axes: >"
      ]
     },
     "execution_count": 17,
     "metadata": {},
     "output_type": "execute_result"
    },
    {
     "data": {
      "image/png": "[encoded data removed]",
      "text/plain": [
       "<Figure size 640x480 with 1 Axes>"
      ]
     },
     "metadata": {},
     "output_type": "display_data"
    }
   ],
   "source": [
    "print(gdf.shape)\n",
    "print(gdf.crs)\n",
    "gdf.plot()"
   ]
  },
  {
   "cell_type": "code",
   "execution_count": 18,
   "metadata": {},
   "outputs": [],
   "source": [
    "gdf['label'] = gdf['Name']#.str.split(\" \",expand=True)[0]\n",
    "gdf['layer'] = 'Proposed Pipeline'"
   ]
  },
  {
   "cell_type": "code",
   "execution_count": 19,
   "metadata": {},
   "outputs": [],
   "source": [
    "# gdf"
   ]
  },
  {
   "cell_type": "code",
   "execution_count": 20,
   "metadata": {},
   "outputs": [],
   "source": [
    "data_path = Path(\"data\")\n",
    "gdf.to_parquet(data_path.joinpath(\"pipes.parquet\"))\n",
    "# data_path = Path(\"data\\\\shps\")\n",
    "# gdf.to_file(data_path.joinpath(\"pipeline_from_kmz_2023-07-17.shp\"))\n"
   ]
  },
  {
   "cell_type": "code",
   "execution_count": 21,
   "metadata": {},
   "outputs": [],
   "source": [
    "# gpd.read_parquet(data_path.joinpath(\"pipes.parquet\")).head(2)"
   ]
  },
  {
   "cell_type": "code",
   "execution_count": null,
   "metadata": {},
   "outputs": [],
   "source": []
  }
 ],
 "metadata": {
  "kernelspec": {
   "display_name": "pandas-analysis-pSGX_PKJ-py3.10",
   "language": "python",
   "name": "python3"
  },
  "language_info": {
   "codemirror_mode": {
    "name": "ipython",
    "version": 3
   },
   "file_extension": ".py",
   "mimetype": "text/x-python",
   "name": "python",
   "nbconvert_exporter": "python",
   "pygments_lexer": "ipython3",
   "version": "3.10.4"
  },
  "orig_nbformat": 4
 },
 "nbformat": 4,
 "nbformat_minor": 2
}
