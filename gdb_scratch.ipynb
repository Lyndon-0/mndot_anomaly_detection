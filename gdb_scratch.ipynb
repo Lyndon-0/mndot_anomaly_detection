{
 "cells": [
  {
   "cell_type": "code",
   "execution_count": 1,
   "metadata": {},
   "outputs": [
    {
     "data": {
      "text/html": [
       "<div>\n",
       "<style scoped>\n",
       "    .dataframe tbody tr th:only-of-type {\n",
       "        vertical-align: middle;\n",
       "    }\n",
       "\n",
       "    .dataframe tbody tr th {\n",
       "        vertical-align: top;\n",
       "    }\n",
       "\n",
       "    .dataframe thead th {\n",
       "        text-align: right;\n",
       "    }\n",
       "</style>\n",
       "<table border=\"1\" class=\"dataframe\">\n",
       "  <thead>\n",
       "    <tr style=\"text-align: right;\">\n",
       "      <th></th>\n",
       "      <th>Name</th>\n",
       "      <th>shape_type</th>\n",
       "      <th>color</th>\n",
       "      <th>alpha</th>\n",
       "      <th>label</th>\n",
       "      <th>shp</th>\n",
       "      <th>gdb</th>\n",
       "      <th>layer</th>\n",
       "    </tr>\n",
       "  </thead>\n",
       "  <tbody>\n",
       "    <tr>\n",
       "      <th>0</th>\n",
       "      <td>Proposed Pipeline</td>\n",
       "      <td>NaN</td>\n",
       "      <td>orange</td>\n",
       "      <td>NaN</td>\n",
       "      <td>label</td>\n",
       "      <td>NaN</td>\n",
       "      <td>NaN</td>\n",
       "      <td>NaN</td>\n",
       "    </tr>\n",
       "    <tr>\n",
       "      <th>1</th>\n",
       "      <td>District Boundary</td>\n",
       "      <td>NaN</td>\n",
       "      <td>black</td>\n",
       "      <td>NaN</td>\n",
       "      <td>WDNAME</td>\n",
       "      <td>\\\\ppeng.com\\pzdata\\clients\\Arvin-Edison WSD-12...</td>\n",
       "      <td>NaN</td>\n",
       "      <td>NaN</td>\n",
       "    </tr>\n",
       "    <tr>\n",
       "      <th>2</th>\n",
       "      <td>AEWSD North Canal</td>\n",
       "      <td>NaN</td>\n",
       "      <td>blue</td>\n",
       "      <td>NaN</td>\n",
       "      <td>CANAL</td>\n",
       "      <td>\\\\ppeng.com\\pzdata\\clients\\Arvin-Edison WSD-12...</td>\n",
       "      <td>NaN</td>\n",
       "      <td>NaN</td>\n",
       "    </tr>\n",
       "  </tbody>\n",
       "</table>\n",
       "</div>"
      ],
      "text/plain": [
       "                Name shape_type   color  alpha   label  \\\n",
       "0  Proposed Pipeline        NaN  orange    NaN   label   \n",
       "1  District Boundary        NaN   black    NaN  WDNAME   \n",
       "2  AEWSD North Canal        NaN    blue    NaN   CANAL   \n",
       "\n",
       "                                                 shp  gdb layer  \n",
       "0                                                NaN  NaN   NaN  \n",
       "1  \\\\ppeng.com\\pzdata\\clients\\Arvin-Edison WSD-12...  NaN   NaN  \n",
       "2  \\\\ppeng.com\\pzdata\\clients\\Arvin-Edison WSD-12...  NaN   NaN  "
      ]
     },
     "execution_count": 1,
     "metadata": {},
     "output_type": "execute_result"
    }
   ],
   "source": [
    "import geopandas as gpd\n",
    "import pandas as pd\n",
    "from pathlib import Path\n",
    "# data_path = Path('data')\n",
    "config = pd.read_excel('data/config.xlsx', sheet_name='layers')\n",
    "config.head(3)"
   ]
  },
  {
   "cell_type": "code",
   "execution_count": 15,
   "metadata": {},
   "outputs": [
    {
     "name": "stdout",
     "output_type": "stream",
     "text": [
      "DiGiorgio Pipeline\n"
     ]
    },
    {
     "data": {
      "text/html": [
       "<div>\n",
       "<style scoped>\n",
       "    .dataframe tbody tr th:only-of-type {\n",
       "        vertical-align: middle;\n",
       "    }\n",
       "\n",
       "    .dataframe tbody tr th {\n",
       "        vertical-align: top;\n",
       "    }\n",
       "\n",
       "    .dataframe thead th {\n",
       "        text-align: right;\n",
       "    }\n",
       "</style>\n",
       "<table border=\"1\" class=\"dataframe\">\n",
       "  <thead>\n",
       "    <tr style=\"text-align: right;\">\n",
       "      <th></th>\n",
       "      <th>Id</th>\n",
       "      <th>geometry</th>\n",
       "    </tr>\n",
       "  </thead>\n",
       "  <tbody>\n",
       "    <tr>\n",
       "      <th>0</th>\n",
       "      <td>0</td>\n",
       "      <td>LINESTRING (6314982.772 2276622.513, 6314954.4...</td>\n",
       "    </tr>\n",
       "    <tr>\n",
       "      <th>1</th>\n",
       "      <td>0</td>\n",
       "      <td>LINESTRING (6312760.631 2274038.457, 6315027.7...</td>\n",
       "    </tr>\n",
       "    <tr>\n",
       "      <th>2</th>\n",
       "      <td>0</td>\n",
       "      <td>LINESTRING (6312379.016 2271384.692, 6312751.9...</td>\n",
       "    </tr>\n",
       "    <tr>\n",
       "      <th>3</th>\n",
       "      <td>0</td>\n",
       "      <td>LINESTRING (6312763.783 2272714.709, 6313028.7...</td>\n",
       "    </tr>\n",
       "    <tr>\n",
       "      <th>4</th>\n",
       "      <td>0</td>\n",
       "      <td>LINESTRING (6311860.356 2274024.036, 6312760.6...</td>\n",
       "    </tr>\n",
       "  </tbody>\n",
       "</table>\n",
       "</div>"
      ],
      "text/plain": [
       "   Id                                           geometry\n",
       "0   0  LINESTRING (6314982.772 2276622.513, 6314954.4...\n",
       "1   0  LINESTRING (6312760.631 2274038.457, 6315027.7...\n",
       "2   0  LINESTRING (6312379.016 2271384.692, 6312751.9...\n",
       "3   0  LINESTRING (6312763.783 2272714.709, 6313028.7...\n",
       "4   0  LINESTRING (6311860.356 2274024.036, 6312760.6..."
      ]
     },
     "execution_count": 15,
     "metadata": {},
     "output_type": "execute_result"
    }
   ],
   "source": [
    "i = -9\n",
    "row = config.iloc[i]\n",
    "print(row['Name'])\n",
    "gdf = gpd.read_file(row['shp'])\n",
    "gdf.to_clipboard()\n",
    "gdf.head()\n",
    "# gdf.plot()"
   ]
  }
 ],
 "metadata": {
  "kernelspec": {
   "display_name": "pandas-analysis-pSGX_PKJ-py3.10",
   "language": "python",
   "name": "python3"
  },
  "language_info": {
   "codemirror_mode": {
    "name": "ipython",
    "version": 3
   },
   "file_extension": ".py",
   "mimetype": "text/x-python",
   "name": "python",
   "nbconvert_exporter": "python",
   "pygments_lexer": "ipython3",
   "version": "3.10.4"
  },
  "orig_nbformat": 4
 },
 "nbformat": 4,
 "nbformat_minor": 2
}
