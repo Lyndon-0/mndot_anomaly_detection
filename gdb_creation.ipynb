{
 "cells": [
  {
   "cell_type": "code",
   "execution_count": 1,
   "metadata": {},
   "outputs": [],
   "source": [
    "import geopandas as gpd\n",
    "from pathlib import Path\n",
    "import pandas as pd"
   ]
  },
  {
   "cell_type": "code",
   "execution_count": 2,
   "metadata": {},
   "outputs": [],
   "source": [
    "# gdf = gpd.read_file(\n",
    "#     r\"Z:\\GIS_Library\\County\\Kern\\Kern_Parcels.shp\",\n",
    "#     # bbox=service_boundary.total_bounds,\n",
    "# \t# bbox=service_boundary,\n",
    "# )\n",
    "# gdf.to_parquet(\"data\\\\apns.parquet\")"
   ]
  },
  {
   "cell_type": "code",
   "execution_count": 5,
   "metadata": {},
   "outputs": [],
   "source": [
    "# full_gdf = gpd.read_parquet(\"data\\\\gdf.parquet\")\n",
    "# service_boundary = full_gdf.pipe(lambda df:df.loc[df['label'] == \"Frick Unit North Service Area\"])\n",
    "# # clip = lambda gdf: gdf.clip(service_boundary)\n",
    "\n",
    "# file = r\"Z:\\GIS_Library\\County\\Kern\\Kern_Parcels.shp\".replace(\n",
    "#     \"Z:\",\n",
    "#     r\"\\\\ppeng.com\\pzdata\\gis\",\n",
    "#     )\n",
    "# print(file)\n",
    "# gdf = gpd.read_file(\n",
    "#     file,\n",
    "#     # bbox=service_boundary.total_bounds,\n",
    "# \tbbox=service_boundary,\n",
    "# )\n",
    "# # gdf = gdf.to_crs(\"EPSG:4326\")\n",
    "# ax = service_boundary.plot(color=\"red\")\n",
    "# gdf.plot(ax=ax, color=\"none\", edgecolor=\"blue\")"
   ]
  },
  {
   "cell_type": "code",
   "execution_count": 18,
   "metadata": {},
   "outputs": [
    {
     "data": {
      "text/html": [
       "<div>\n",
       "<style scoped>\n",
       "    .dataframe tbody tr th:only-of-type {\n",
       "        vertical-align: middle;\n",
       "    }\n",
       "\n",
       "    .dataframe tbody tr th {\n",
       "        vertical-align: top;\n",
       "    }\n",
       "\n",
       "    .dataframe thead th {\n",
       "        text-align: right;\n",
       "    }\n",
       "</style>\n",
       "<table border=\"1\" class=\"dataframe\">\n",
       "  <thead>\n",
       "    <tr style=\"text-align: right;\">\n",
       "      <th></th>\n",
       "      <th>APN_number</th>\n",
       "      <th>APN9</th>\n",
       "      <th>APN</th>\n",
       "      <th>SHAPE_SQFT</th>\n",
       "      <th>Acreage</th>\n",
       "      <th>OID_</th>\n",
       "      <th>TE_NO</th>\n",
       "      <th>APN9_1</th>\n",
       "      <th>ATN</th>\n",
       "      <th>ROLL</th>\n",
       "      <th>...</th>\n",
       "      <th>LEGAL_DESC</th>\n",
       "      <th>ACRES</th>\n",
       "      <th>AG_PRES</th>\n",
       "      <th>CITRUS_AC</th>\n",
       "      <th>APN_1</th>\n",
       "      <th>Community</th>\n",
       "      <th>Systm_Name</th>\n",
       "      <th>PWSID</th>\n",
       "      <th>MapUse</th>\n",
       "      <th>geometry</th>\n",
       "    </tr>\n",
       "  </thead>\n",
       "  <tbody>\n",
       "    <tr>\n",
       "      <th>0</th>\n",
       "      <td>17401101</td>\n",
       "      <td>174011015</td>\n",
       "      <td>174-011-01</td>\n",
       "      <td>834483</td>\n",
       "      <td>19.16</td>\n",
       "      <td>113757</td>\n",
       "      <td>129869.0</td>\n",
       "      <td>174011015</td>\n",
       "      <td>17401101010</td>\n",
       "      <td>1</td>\n",
       "      <td>...</td>\n",
       "      <td>SECTION 24 , TOWNSHIP 30 , RANGE 28 , QUARTER</td>\n",
       "      <td>17.87</td>\n",
       "      <td>AG PRESERVE</td>\n",
       "      <td>0.0</td>\n",
       "      <td>174011015</td>\n",
       "      <td>NaN</td>\n",
       "      <td>NaN</td>\n",
       "      <td>NaN</td>\n",
       "      <td>NaN</td>\n",
       "      <td>POLYGON ((6288809.845 2296669.267, 6288181.769...</td>\n",
       "    </tr>\n",
       "    <tr>\n",
       "      <th>1</th>\n",
       "      <td>17401102</td>\n",
       "      <td>174011023</td>\n",
       "      <td>174-011-02</td>\n",
       "      <td>866279</td>\n",
       "      <td>19.89</td>\n",
       "      <td>113758</td>\n",
       "      <td>129871.0</td>\n",
       "      <td>174011023</td>\n",
       "      <td>17401102013</td>\n",
       "      <td>1</td>\n",
       "      <td>...</td>\n",
       "      <td>SECTION 24 , TOWNSHIP 30 , RANGE 28 , QUARTER</td>\n",
       "      <td>20.00</td>\n",
       "      <td>AG PRESERVE</td>\n",
       "      <td>0.0</td>\n",
       "      <td>174011023</td>\n",
       "      <td>NaN</td>\n",
       "      <td>NaN</td>\n",
       "      <td>NaN</td>\n",
       "      <td>NaN</td>\n",
       "      <td>POLYGON ((6288195.979 2297994.001, 6288181.769...</td>\n",
       "    </tr>\n",
       "  </tbody>\n",
       "</table>\n",
       "<p>2 rows × 41 columns</p>\n",
       "</div>"
      ],
      "text/plain": [
       "  APN_number       APN9         APN  SHAPE_SQFT  Acreage    OID_     TE_NO  \\\n",
       "0   17401101  174011015  174-011-01      834483    19.16  113757  129869.0   \n",
       "1   17401102  174011023  174-011-02      866279    19.89  113758  129871.0   \n",
       "\n",
       "      APN9_1          ATN ROLL  ...  \\\n",
       "0  174011015  17401101010    1  ...   \n",
       "1  174011023  17401102013    1  ...   \n",
       "\n",
       "                                      LEGAL_DESC  ACRES      AG_PRES  \\\n",
       "0  SECTION 24 , TOWNSHIP 30 , RANGE 28 , QUARTER  17.87  AG PRESERVE   \n",
       "1  SECTION 24 , TOWNSHIP 30 , RANGE 28 , QUARTER  20.00  AG PRESERVE   \n",
       "\n",
       "  CITRUS_AC      APN_1 Community  Systm_Name  PWSID  MapUse  \\\n",
       "0       0.0  174011015       NaN         NaN    NaN     NaN   \n",
       "1       0.0  174011023       NaN         NaN    NaN     NaN   \n",
       "\n",
       "                                            geometry  \n",
       "0  POLYGON ((6288809.845 2296669.267, 6288181.769...  \n",
       "1  POLYGON ((6288195.979 2297994.001, 6288181.769...  \n",
       "\n",
       "[2 rows x 41 columns]"
      ]
     },
     "execution_count": 18,
     "metadata": {},
     "output_type": "execute_result"
    }
   ],
   "source": [
    "gdf = gpd.read_file(\n",
    "    r\"Z:\\GIS_Library\\County\\Kern\\Kern_Parcels_Owners.shp\",\n",
    "    # bbox=service_boundary.total_bounds,\n",
    "\tbbox=service_boundary,\n",
    ").rename(columns={\n",
    "    \"APN\": \"APN_number\",\n",
    "    \"APN_LABEL\": \"APN\",\n",
    "    \"SHAPE_ACRE\": \"Acreage\",\n",
    "    \"ASSE_NAME\": \"GIS Landowner\",\n",
    "})\n",
    "# gdf = gdf.to_crs(\"EPSG:4326\")\n",
    "# ax = service_boundary.plot(color=\"red\")\n",
    "# gdf.plot(ax=ax, color=\"none\", edgecolor=\"blue\")\n",
    "gdf.head(2)"
   ]
  },
  {
   "cell_type": "code",
   "execution_count": 19,
   "metadata": {},
   "outputs": [],
   "source": [
    "updated_owners = pd.read_excel(\n",
    "    r\"\\\\ppeng.com\\pzdata\\clients\\Arvin-Edison WSD-1215\\121523003-Frick Unit Pipeline\\100 Correspo\\130 Incoming\\Landowner_Parcel Contact List\\APN AG USER LIST.xlsx\",\n",
    "    sheet_name=\"APN AG USER\"\n",
    ")\n",
    "updated_owners['APN'] = updated_owners['APN_D'].str[:-5]\n",
    "apn_map = {row[\"APN\"]:row[\"OWNERNAME\"] for i,row in updated_owners.iterrows()}\n",
    "\n",
    "gdf['Parcelquest Landowner'] = gdf['APN'].map(apn_map)\n",
    "gdf['Landowner'] = gdf['Parcelquest Landowner'].fillna(gdf['GIS Landowner'])\n",
    "gdf['label'] = [\n",
    "    f\"APN: {y['APN']}\\nArea: {y['Acreage']} acres\\nLandowner: {y['Landowner']}\" for i,y in gdf.iterrows()\n",
    "]\n",
    "gdf.to_clipboard()\n",
    "gdf.to_parquet(\"data\\\\apns.parquet\")"
   ]
  },
  {
   "cell_type": "code",
   "execution_count": 6,
   "metadata": {},
   "outputs": [],
   "source": [
    "# gdf['APN_DASH'].iloc[0]\n",
    "# gdf.head(2)"
   ]
  },
  {
   "cell_type": "code",
   "execution_count": 7,
   "metadata": {},
   "outputs": [],
   "source": [
    "# gdf.to_parquet(\"data\\\\apns.parquet\")"
   ]
  },
  {
   "cell_type": "code",
   "execution_count": 23,
   "metadata": {},
   "outputs": [
    {
     "data": {
      "text/html": [
       "<div>\n",
       "<style scoped>\n",
       "    .dataframe tbody tr th:only-of-type {\n",
       "        vertical-align: middle;\n",
       "    }\n",
       "\n",
       "    .dataframe tbody tr th {\n",
       "        vertical-align: top;\n",
       "    }\n",
       "\n",
       "    .dataframe thead th {\n",
       "        text-align: right;\n",
       "    }\n",
       "</style>\n",
       "<table border=\"1\" class=\"dataframe\">\n",
       "  <thead>\n",
       "    <tr style=\"text-align: right;\">\n",
       "      <th></th>\n",
       "      <th>APN_number</th>\n",
       "      <th>APN9</th>\n",
       "      <th>APN</th>\n",
       "      <th>SHAPE_SQFT</th>\n",
       "      <th>Acreage</th>\n",
       "      <th>OID_</th>\n",
       "      <th>TE_NO</th>\n",
       "      <th>APN9_1</th>\n",
       "      <th>ATN</th>\n",
       "      <th>ROLL</th>\n",
       "      <th>...</th>\n",
       "      <th>CITRUS_AC</th>\n",
       "      <th>APN_1</th>\n",
       "      <th>Community</th>\n",
       "      <th>Systm_Name</th>\n",
       "      <th>PWSID</th>\n",
       "      <th>MapUse</th>\n",
       "      <th>geometry</th>\n",
       "      <th>label</th>\n",
       "      <th>GIS Landowner</th>\n",
       "      <th>Parcelquest Landowner</th>\n",
       "    </tr>\n",
       "  </thead>\n",
       "  <tbody>\n",
       "    <tr>\n",
       "      <th>0</th>\n",
       "      <td>17401101</td>\n",
       "      <td>174011015</td>\n",
       "      <td>174-011-01</td>\n",
       "      <td>834483</td>\n",
       "      <td>19.16</td>\n",
       "      <td>113757</td>\n",
       "      <td>129869.0</td>\n",
       "      <td>174011015</td>\n",
       "      <td>17401101010</td>\n",
       "      <td>1</td>\n",
       "      <td>...</td>\n",
       "      <td>0.0</td>\n",
       "      <td>174011015</td>\n",
       "      <td>NaN</td>\n",
       "      <td>NaN</td>\n",
       "      <td>NaN</td>\n",
       "      <td>NaN</td>\n",
       "      <td>POLYGON ((6288809.845 2296669.267, 6288181.769...</td>\n",
       "      <td>APN: 174-011-01\\nArea: 19.16 acres\\nLandowner:...</td>\n",
       "      <td>GIUMARRA BROS FRUIT CO</td>\n",
       "      <td>None</td>\n",
       "    </tr>\n",
       "    <tr>\n",
       "      <th>1</th>\n",
       "      <td>17401102</td>\n",
       "      <td>174011023</td>\n",
       "      <td>174-011-02</td>\n",
       "      <td>866279</td>\n",
       "      <td>19.89</td>\n",
       "      <td>113758</td>\n",
       "      <td>129871.0</td>\n",
       "      <td>174011023</td>\n",
       "      <td>17401102013</td>\n",
       "      <td>1</td>\n",
       "      <td>...</td>\n",
       "      <td>0.0</td>\n",
       "      <td>174011023</td>\n",
       "      <td>NaN</td>\n",
       "      <td>NaN</td>\n",
       "      <td>NaN</td>\n",
       "      <td>NaN</td>\n",
       "      <td>POLYGON ((6288195.979 2297994.001, 6288181.769...</td>\n",
       "      <td>APN: 174-011-02\\nArea: 19.89 acres\\nLandowner:...</td>\n",
       "      <td>GIUMARRA BROS FRUIT CO</td>\n",
       "      <td>None</td>\n",
       "    </tr>\n",
       "  </tbody>\n",
       "</table>\n",
       "<p>2 rows × 44 columns</p>\n",
       "</div>"
      ],
      "text/plain": [
       "  APN_number       APN9         APN  SHAPE_SQFT  Acreage    OID_     TE_NO  \\\n",
       "0   17401101  174011015  174-011-01      834483    19.16  113757  129869.0   \n",
       "1   17401102  174011023  174-011-02      866279    19.89  113758  129871.0   \n",
       "\n",
       "      APN9_1          ATN ROLL  ... CITRUS_AC      APN_1 Community Systm_Name  \\\n",
       "0  174011015  17401101010    1  ...       0.0  174011015       NaN        NaN   \n",
       "1  174011023  17401102013    1  ...       0.0  174011023       NaN        NaN   \n",
       "\n",
       "  PWSID MapUse                                           geometry  \\\n",
       "0   NaN    NaN  POLYGON ((6288809.845 2296669.267, 6288181.769...   \n",
       "1   NaN    NaN  POLYGON ((6288195.979 2297994.001, 6288181.769...   \n",
       "\n",
       "                                               label           GIS Landowner  \\\n",
       "0  APN: 174-011-01\\nArea: 19.16 acres\\nLandowner:...  GIUMARRA BROS FRUIT CO   \n",
       "1  APN: 174-011-02\\nArea: 19.89 acres\\nLandowner:...  GIUMARRA BROS FRUIT CO   \n",
       "\n",
       "   Parcelquest Landowner  \n",
       "0                   None  \n",
       "1                   None  \n",
       "\n",
       "[2 rows x 44 columns]"
      ]
     },
     "execution_count": 23,
     "metadata": {},
     "output_type": "execute_result"
    }
   ],
   "source": [
    "apn_gdf = gpd.read_parquet(\"data\\\\apns.parquet\")\n",
    "apn_gdf.to_clipboard()\n",
    "apn_gdf.head(2)"
   ]
  },
  {
   "attachments": {},
   "cell_type": "markdown",
   "metadata": {},
   "source": [
    "APN rename"
   ]
  },
  {
   "cell_type": "code",
   "execution_count": 14,
   "metadata": {},
   "outputs": [],
   "source": [
    "updated_owners = pd.read_excel(\n",
    "    r\"\\\\ppeng.com\\pzdata\\clients\\Arvin-Edison WSD-1215\\121523003-Frick Unit Pipeline\\100 Correspo\\130 Incoming\\Landowner_Parcel Contact List\\APN AG USER LIST.xlsx\",\n",
    "    sheet_name=\"APN AG USER\"\n",
    ")\n",
    "updated_owners['APN'] = updated_owners['APN_D'].str[:-5]\n",
    "apn_map = {row[\"APN\"]:row[\"OWNERNAME\"] for i,row in updated_owners.iterrows()}\n",
    "apn_gdf['GIS Landowner'] = apn_gdf['Landowner']\n",
    "\n",
    "apn_gdf['Parcelquest Landowner'] = apn_gdf['APN'].map(apn_map)\n",
    "apn_gdf['Landowner'] = apn_gdf['GIS Landowner'].fillna(apn_gdf['Landowner'])\n",
    "apn_gdf.to_clipboard()"
   ]
  },
  {
   "cell_type": "code",
   "execution_count": 15,
   "metadata": {},
   "outputs": [
    {
     "data": {
      "text/html": [
       "<div>\n",
       "<style scoped>\n",
       "    .dataframe tbody tr th:only-of-type {\n",
       "        vertical-align: middle;\n",
       "    }\n",
       "\n",
       "    .dataframe tbody tr th {\n",
       "        vertical-align: top;\n",
       "    }\n",
       "\n",
       "    .dataframe thead th {\n",
       "        text-align: right;\n",
       "    }\n",
       "</style>\n",
       "<table border=\"1\" class=\"dataframe\">\n",
       "  <thead>\n",
       "    <tr style=\"text-align: right;\">\n",
       "      <th></th>\n",
       "      <th>APN_number</th>\n",
       "      <th>APN9</th>\n",
       "      <th>APN</th>\n",
       "      <th>SHAPE_SQFT</th>\n",
       "      <th>Acreage</th>\n",
       "      <th>OID_</th>\n",
       "      <th>TE_NO</th>\n",
       "      <th>APN9_1</th>\n",
       "      <th>ATN</th>\n",
       "      <th>ROLL</th>\n",
       "      <th>...</th>\n",
       "      <th>APN_1</th>\n",
       "      <th>Community</th>\n",
       "      <th>Systm_Name</th>\n",
       "      <th>PWSID</th>\n",
       "      <th>MapUse</th>\n",
       "      <th>geometry</th>\n",
       "      <th>label</th>\n",
       "      <th>GIS Landowner</th>\n",
       "      <th>Parcelquest Landowner</th>\n",
       "      <th>Updated Landowner</th>\n",
       "    </tr>\n",
       "  </thead>\n",
       "  <tbody>\n",
       "    <tr>\n",
       "      <th>0</th>\n",
       "      <td>17401101</td>\n",
       "      <td>174011015</td>\n",
       "      <td>174-011-01</td>\n",
       "      <td>834483</td>\n",
       "      <td>19.16</td>\n",
       "      <td>113757</td>\n",
       "      <td>129869.0</td>\n",
       "      <td>174011015</td>\n",
       "      <td>17401101010</td>\n",
       "      <td>1</td>\n",
       "      <td>...</td>\n",
       "      <td>174011015</td>\n",
       "      <td>NaN</td>\n",
       "      <td>NaN</td>\n",
       "      <td>NaN</td>\n",
       "      <td>NaN</td>\n",
       "      <td>POLYGON ((6288809.845 2296669.267, 6288181.769...</td>\n",
       "      <td>APN: 174-011-01\\nArea: 19.16 acres\\nLandowner:...</td>\n",
       "      <td>GIUMARRA BROS FRUIT CO</td>\n",
       "      <td>NaN</td>\n",
       "      <td>GIUMARRA BROS FRUIT CO</td>\n",
       "    </tr>\n",
       "    <tr>\n",
       "      <th>1</th>\n",
       "      <td>17401102</td>\n",
       "      <td>174011023</td>\n",
       "      <td>174-011-02</td>\n",
       "      <td>866279</td>\n",
       "      <td>19.89</td>\n",
       "      <td>113758</td>\n",
       "      <td>129871.0</td>\n",
       "      <td>174011023</td>\n",
       "      <td>17401102013</td>\n",
       "      <td>1</td>\n",
       "      <td>...</td>\n",
       "      <td>174011023</td>\n",
       "      <td>NaN</td>\n",
       "      <td>NaN</td>\n",
       "      <td>NaN</td>\n",
       "      <td>NaN</td>\n",
       "      <td>POLYGON ((6288195.979 2297994.001, 6288181.769...</td>\n",
       "      <td>APN: 174-011-02\\nArea: 19.89 acres\\nLandowner:...</td>\n",
       "      <td>GIUMARRA BROS FRUIT CO</td>\n",
       "      <td>NaN</td>\n",
       "      <td>GIUMARRA BROS FRUIT CO</td>\n",
       "    </tr>\n",
       "  </tbody>\n",
       "</table>\n",
       "<p>2 rows × 45 columns</p>\n",
       "</div>"
      ],
      "text/plain": [
       "  APN_number       APN9         APN  SHAPE_SQFT  Acreage    OID_     TE_NO  \\\n",
       "0   17401101  174011015  174-011-01      834483    19.16  113757  129869.0   \n",
       "1   17401102  174011023  174-011-02      866279    19.89  113758  129871.0   \n",
       "\n",
       "      APN9_1          ATN ROLL  ...      APN_1 Community Systm_Name PWSID  \\\n",
       "0  174011015  17401101010    1  ...  174011015       NaN        NaN   NaN   \n",
       "1  174011023  17401102013    1  ...  174011023       NaN        NaN   NaN   \n",
       "\n",
       "  MapUse                                           geometry  \\\n",
       "0    NaN  POLYGON ((6288809.845 2296669.267, 6288181.769...   \n",
       "1    NaN  POLYGON ((6288195.979 2297994.001, 6288181.769...   \n",
       "\n",
       "                                               label           GIS Landowner  \\\n",
       "0  APN: 174-011-01\\nArea: 19.16 acres\\nLandowner:...  GIUMARRA BROS FRUIT CO   \n",
       "1  APN: 174-011-02\\nArea: 19.89 acres\\nLandowner:...  GIUMARRA BROS FRUIT CO   \n",
       "\n",
       "   Parcelquest Landowner       Updated Landowner  \n",
       "0                    NaN  GIUMARRA BROS FRUIT CO  \n",
       "1                    NaN  GIUMARRA BROS FRUIT CO  \n",
       "\n",
       "[2 rows x 45 columns]"
      ]
     },
     "execution_count": 15,
     "metadata": {},
     "output_type": "execute_result"
    }
   ],
   "source": [
    "apn_gdf.head(2)"
   ]
  },
  {
   "cell_type": "code",
   "execution_count": 4,
   "metadata": {},
   "outputs": [],
   "source": [
    "# gdf=gpd.read_file(r\"G:\\Arvin-Edison WSD-1215\\121519004-FFP Frick Unit\\GIS\\Feature\\Laterals\\Frick_NorthSouth_Laterals.shp\")\n",
    "# gdf=gpd.read_file(r\"G:\\Arvin-Edison WSD-1215\\121519005-DiGiorgio Unit\\GIS\\Feature\\AEWSD_Alignments.shp\")\n",
    "# gdf.head(2)\n"
   ]
  },
  {
   "attachments": {},
   "cell_type": "markdown",
   "metadata": {},
   "source": [
    "## Pipelines"
   ]
  },
  {
   "cell_type": "code",
   "execution_count": 16,
   "metadata": {},
   "outputs": [
    {
     "data": {
      "text/plain": [
       "0      N0 - 42\"\n",
       "1    N0-A - 18\"\n",
       "2    N0-B - 21\"\n",
       "3    N0-C - 18\"\n",
       "4    N0-1 - 12\"\n",
       "5      N0 - 30\"\n",
       "6      N0 - 27\"\n",
       "7      N0 - 12\"\n",
       "8      N0 - 42\"\n",
       "Name: label, dtype: object"
      ]
     },
     "execution_count": 16,
     "metadata": {},
     "output_type": "execute_result"
    }
   ],
   "source": [
    "pipe_gdf = gpd.read_file(r\"data\\shps\\AEWSD_frick_pipelines.shp\",)\n",
    "# pipe_gdf['Label'] = \"Diameter: \" + pipe_gdf['Diameter'].astype(str) + '\"'\n",
    "pipe_gdf['label'] = pipe_gdf['Name'].str.replace(\"O\",\"0\") + \" - \" + pipe_gdf['Diameter'].astype(str) + '\"'\n",
    "pipe_gdf['label']"
   ]
  },
  {
   "attachments": {},
   "cell_type": "markdown",
   "metadata": {},
   "source": [
    "## Other layers"
   ]
  },
  {
   "cell_type": "code",
   "execution_count": 3,
   "metadata": {},
   "outputs": [],
   "source": [
    "\n",
    "layers = {\n",
    "\t\"Proposed Pipeline\":{\n",
    "\t\t# \"gdf\":pipe_gdf,\n",
    "\t\t\"color\":\"orange\",\n",
    "\t\t\"label\":\"label\",\n",
    "\t},\n",
    "\n",
    "\t\"District Boundary\":{\n",
    "\t\t\"shp\":r\"\\\\ppeng.com\\pzdata\\clients\\Arvin-Edison WSD-1215\\121519004-FFP Frick Unit\\GIS\\Feature\\From_AE\\AEWSD_New_boundary\",\n",
    "\t\t\"color\":\"black\",\n",
    "\t\t\"label\":\"WDNAME\",\n",
    "\t},\n",
    "\t\"AEWSD North Canal\":{\n",
    "\t\t\"shp\":r\"\\\\ppeng.com\\pzdata\\clients\\Arvin-Edison WSD-1215\\121519004-FFP Frick Unit\\GIS\\Feature\\From_AE\\District_canal\",\n",
    "\t\t\"color\":\"blue\",\n",
    "\t\t\"label\":\"CANAL\",\n",
    "\t},\n",
    "\t\"FFPPP Discharge Pipeline\":{\n",
    "\t\t\"shp\":r\"\\\\ppeng.com\\pzdata\\clients\\Arvin-Edison WSD-1215\\121519004-FFP Frick Unit\\GIS\\Feature\\From_AE\\FFPP_discharge_pipeline\",\n",
    "\t\t\"color\":\"red\",\n",
    "\t\t\"label\":\"CANAL\",\n",
    "\t},\n",
    "\t\"Frick Unit Service Area\":{\n",
    "\t\t\"shp\":r\"G:\\Arvin-Edison WSD-1215\\121519005-DiGiorgio Unit\\GIS\\Feature\\proposed_SWSAs\",\n",
    "\t\t\"color\":\"red\",\n",
    "\t\t\"label\":\"Name\",\n",
    "\t},\n",
    "\t\"Proposed Turnout\":{\n",
    "\t\t# \"gdb\":r\"Z:\\GIS_Library\\_Clients\\ArvinEdison_WSD.gdb\",\n",
    "\t\t\"gdb\":r\"\\\\ppeng.com\\pzdata\\gis\\GIS_Library\\_Clients\\ArvinEdison_WSD.gdb\",\n",
    "\t\t\"layer\":\"turnouts\",\n",
    "\t\t\"color\":\"yellow\",\n",
    "\t\t\"label\":\"TURNOUT__\",\n",
    "\t},\n",
    "}\n"
   ]
  },
  {
   "cell_type": "code",
   "execution_count": 4,
   "metadata": {},
   "outputs": [],
   "source": [
    "import pandas as pd\n",
    "pd.DataFrame(layers).to_clipboard()"
   ]
  },
  {
   "cell_type": "code",
   "execution_count": 5,
   "metadata": {},
   "outputs": [
    {
     "ename": "UnboundLocalError",
     "evalue": "local variable 'gdf' referenced before assignment",
     "output_type": "error",
     "traceback": [
      "\u001b[1;31m---------------------------------------------------------------------------\u001b[0m",
      "\u001b[1;31mUnboundLocalError\u001b[0m                         Traceback (most recent call last)",
      "Cell \u001b[1;32mIn[5], line 24\u001b[0m\n\u001b[0;32m     21\u001b[0m \t\u001b[39mreturn\u001b[39;00m gdf[[\u001b[39m'\u001b[39m\u001b[39mcolor\u001b[39m\u001b[39m'\u001b[39m,\u001b[39m'\u001b[39m\u001b[39mlabel\u001b[39m\u001b[39m'\u001b[39m,\u001b[39m\"\u001b[39m\u001b[39mlayer\u001b[39m\u001b[39m\"\u001b[39m,\u001b[39m\"\u001b[39m\u001b[39mgeometry\u001b[39m\u001b[39m\"\u001b[39m]]\u001b[39m#.to_crs(epsg=4326)\u001b[39;00m\n\u001b[0;32m     23\u001b[0m \u001b[39m# Create gdb\u001b[39;00m\n\u001b[1;32m---> 24\u001b[0m gdfs \u001b[39m=\u001b[39m {name:get_layer(name,info) \u001b[39mfor\u001b[39;00m name,info \u001b[39min\u001b[39;00m layers\u001b[39m.\u001b[39mitems()}\n",
      "Cell \u001b[1;32mIn[5], line 24\u001b[0m, in \u001b[0;36m<dictcomp>\u001b[1;34m(.0)\u001b[0m\n\u001b[0;32m     21\u001b[0m \t\u001b[39mreturn\u001b[39;00m gdf[[\u001b[39m'\u001b[39m\u001b[39mcolor\u001b[39m\u001b[39m'\u001b[39m,\u001b[39m'\u001b[39m\u001b[39mlabel\u001b[39m\u001b[39m'\u001b[39m,\u001b[39m\"\u001b[39m\u001b[39mlayer\u001b[39m\u001b[39m\"\u001b[39m,\u001b[39m\"\u001b[39m\u001b[39mgeometry\u001b[39m\u001b[39m\"\u001b[39m]]\u001b[39m#.to_crs(epsg=4326)\u001b[39;00m\n\u001b[0;32m     23\u001b[0m \u001b[39m# Create gdb\u001b[39;00m\n\u001b[1;32m---> 24\u001b[0m gdfs \u001b[39m=\u001b[39m {name:get_layer(name,info) \u001b[39mfor\u001b[39;00m name,info \u001b[39min\u001b[39;00m layers\u001b[39m.\u001b[39mitems()}\n",
      "Cell \u001b[1;32mIn[5], line 11\u001b[0m, in \u001b[0;36mget_layer\u001b[1;34m(name, info)\u001b[0m\n\u001b[0;32m      8\u001b[0m \u001b[39melif\u001b[39;00m \u001b[39m\"\u001b[39m\u001b[39mgdf\u001b[39m\u001b[39m\"\u001b[39m \u001b[39min\u001b[39;00m info:\n\u001b[0;32m      9\u001b[0m \tgdf \u001b[39m=\u001b[39m info[\u001b[39m\"\u001b[39m\u001b[39mgdf\u001b[39m\u001b[39m\"\u001b[39m]\n\u001b[1;32m---> 11\u001b[0m gdf[\u001b[39m\"\u001b[39m\u001b[39mcolor\u001b[39m\u001b[39m\"\u001b[39m] \u001b[39m=\u001b[39m info[\u001b[39m\"\u001b[39m\u001b[39mcolor\u001b[39m\u001b[39m\"\u001b[39m]\n\u001b[0;32m     12\u001b[0m \u001b[39m# gdf[\"label\"] = gdf[info[\"label\"]].astype(str)\u001b[39;00m\n\u001b[0;32m     13\u001b[0m gdf[\u001b[39m\"\u001b[39m\u001b[39mlabel\u001b[39m\u001b[39m\"\u001b[39m] \u001b[39m=\u001b[39m gdf[info[\u001b[39m\"\u001b[39m\u001b[39mlabel\u001b[39m\u001b[39m\"\u001b[39m]]\u001b[39m.\u001b[39mastype(\u001b[39mstr\u001b[39m)\n",
      "\u001b[1;31mUnboundLocalError\u001b[0m: local variable 'gdf' referenced before assignment"
     ]
    }
   ],
   "source": [
    "\n",
    "def get_layer(name,info):\n",
    "\tif \"shp\" in info:\n",
    "\t\tgdf = gpd.read_file(Path(info[\"shp\"]))\n",
    "\t\t\n",
    "\telif \"gdb\" in info:\n",
    "\t\tgdb = Path(info[\"gdb\"])\n",
    "\t\tgdf = gpd.read_file(gdb,layer=info[\"layer\"])\n",
    "\telif \"gdf\" in info:\n",
    "\t\tgdf = info[\"gdf\"]\n",
    "\t\n",
    "\tgdf[\"color\"] = info[\"color\"]\n",
    "\t# gdf[\"label\"] = gdf[info[\"label\"]].astype(str)\n",
    "\tgdf[\"label\"] = gdf[info[\"label\"]].astype(str)\n",
    "\n",
    "\n",
    "\tgdf[\"layer\"] = name\n",
    "\tprint(name)\n",
    "\tprint(gdf.crs)\n",
    "\t\n",
    "\t\n",
    "\treturn gdf[['color','label',\"layer\",\"geometry\"]]#.to_crs(epsg=4326)\n",
    "\n",
    "# Create gdb\n",
    "gdfs = {name:get_layer(name,info) for name,info in layers.items()}"
   ]
  },
  {
   "cell_type": "code",
   "execution_count": 25,
   "metadata": {},
   "outputs": [
    {
     "data": {
      "text/plain": [
       "dict_keys(['Proposed Pipeline', 'District Boundary', 'AEWSD North Canal', 'FFPPP Discharge Pipeline', 'Frick Unit Service Area', 'Proposed Turnout'])"
      ]
     },
     "execution_count": 25,
     "metadata": {},
     "output_type": "execute_result"
    }
   ],
   "source": [
    "gdfs.keys()\n",
    "# gdfs['AEWSD Alignments'].head(2)"
   ]
  },
  {
   "cell_type": "code",
   "execution_count": 19,
   "metadata": {},
   "outputs": [
    {
     "data": {
      "text/html": [
       "<div>\n",
       "<style scoped>\n",
       "    .dataframe tbody tr th:only-of-type {\n",
       "        vertical-align: middle;\n",
       "    }\n",
       "\n",
       "    .dataframe tbody tr th {\n",
       "        vertical-align: top;\n",
       "    }\n",
       "\n",
       "    .dataframe thead th {\n",
       "        text-align: right;\n",
       "    }\n",
       "</style>\n",
       "<table border=\"1\" class=\"dataframe\">\n",
       "  <thead>\n",
       "    <tr style=\"text-align: right;\">\n",
       "      <th></th>\n",
       "      <th>color</th>\n",
       "      <th>label</th>\n",
       "      <th>layer</th>\n",
       "      <th>geometry</th>\n",
       "    </tr>\n",
       "  </thead>\n",
       "  <tbody>\n",
       "    <tr>\n",
       "      <th>0</th>\n",
       "      <td>orange</td>\n",
       "      <td>N0 - 42\"</td>\n",
       "      <td>Proposed Pipeline</td>\n",
       "      <td>LINESTRING Z (6296911.508 2304590.809 0.000, 6...</td>\n",
       "    </tr>\n",
       "    <tr>\n",
       "      <th>1</th>\n",
       "      <td>orange</td>\n",
       "      <td>N0-A - 18\"</td>\n",
       "      <td>Proposed Pipeline</td>\n",
       "      <td>LINESTRING Z (6296914.875 2304574.529 0.000, 6...</td>\n",
       "    </tr>\n",
       "  </tbody>\n",
       "</table>\n",
       "</div>"
      ],
      "text/plain": [
       "    color       label              layer  \\\n",
       "0  orange    N0 - 42\"  Proposed Pipeline   \n",
       "1  orange  N0-A - 18\"  Proposed Pipeline   \n",
       "\n",
       "                                            geometry  \n",
       "0  LINESTRING Z (6296911.508 2304590.809 0.000, 6...  \n",
       "1  LINESTRING Z (6296914.875 2304574.529 0.000, 6...  "
      ]
     },
     "execution_count": 19,
     "metadata": {},
     "output_type": "execute_result"
    }
   ],
   "source": [
    "gdfs['Proposed Pipeline'].head(2)"
   ]
  },
  {
   "cell_type": "code",
   "execution_count": 20,
   "metadata": {},
   "outputs": [],
   "source": [
    "epsg = 4326\n",
    "# epsg = 26745\n",
    "# epsg = 2229\n",
    "# epsg = 6424\n",
    "gdf = pd.concat([gdf.to_crs(epsg=epsg) for gdf in gdfs.values()])\n",
    "gdf.to_parquet(\"data\\\\gdf.parquet\")"
   ]
  },
  {
   "cell_type": "code",
   "execution_count": 16,
   "metadata": {},
   "outputs": [],
   "source": [
    "# gdf"
   ]
  },
  {
   "cell_type": "code",
   "execution_count": 2,
   "metadata": {},
   "outputs": [
    {
     "ename": "NameError",
     "evalue": "name 'gdfs' is not defined",
     "output_type": "error",
     "traceback": [
      "\u001b[1;31m---------------------------------------------------------------------------\u001b[0m",
      "\u001b[1;31mNameError\u001b[0m                                 Traceback (most recent call last)",
      "Cell \u001b[1;32mIn[2], line 1\u001b[0m\n\u001b[1;32m----> 1\u001b[0m names \u001b[39m=\u001b[39m \u001b[39mlist\u001b[39m(gdfs\u001b[39m.\u001b[39mkeys())\n\u001b[0;32m      2\u001b[0m \u001b[39mfrom\u001b[39;00m \u001b[39mIPython\u001b[39;00m\u001b[39m.\u001b[39;00m\u001b[39mdisplay\u001b[39;00m \u001b[39mimport\u001b[39;00m display\n\u001b[0;32m      3\u001b[0m \u001b[39mfor\u001b[39;00m name \u001b[39min\u001b[39;00m names:\n",
      "\u001b[1;31mNameError\u001b[0m: name 'gdfs' is not defined"
     ]
    }
   ],
   "source": [
    "names = list(gdfs.keys())\n",
    "from IPython.display import display\n",
    "for name in names:\n",
    "\tprint(name)\n",
    "\tgdf = gdfs[name]\n",
    "\tdisplay(gdf.head())\n",
    "\tdisplay(gdf.plot(color=layers[name][\"color\"]).figure)\n",
    "\t"
   ]
  },
  {
   "cell_type": "code",
   "execution_count": null,
   "metadata": {},
   "outputs": [],
   "source": []
  }
 ],
 "metadata": {
  "kernelspec": {
   "display_name": "pandas-analysis-pSGX_PKJ-py3.10",
   "language": "python",
   "name": "python3"
  },
  "language_info": {
   "codemirror_mode": {
    "name": "ipython",
    "version": 3
   },
   "file_extension": ".py",
   "mimetype": "text/x-python",
   "name": "python",
   "nbconvert_exporter": "python",
   "pygments_lexer": "ipython3",
   "version": "3.10.4"
  },
  "orig_nbformat": 4
 },
 "nbformat": 4,
 "nbformat_minor": 2
}
